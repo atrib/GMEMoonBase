{
 "cells": [
  {
   "cell_type": "markdown",
   "metadata": {},
   "source": [
    "#### Network analysis on the interactions between users of r\\WallStreetBets\n",
    "In this notebook, a directed graph will be constructed from the interactions between people posting on the subreddit and the people commenting on them.\n",
    "Later, some general statistics on the graph will be computed, followed by an authority vs hub analysis and a thorough visualization."
   ]
  },
  {
   "cell_type": "code",
   "execution_count": 1,
   "metadata": {},
   "outputs": [],
   "source": [
    "import pandas as pd\n",
    "import networkx as nx\n",
    "import matplotlib.pyplot as plt"
   ]
  },
  {
   "cell_type": "code",
   "execution_count": 2,
   "metadata": {},
   "outputs": [],
   "source": [
    "data = pd.read_pickle('post_comments')"
   ]
  },
  {
   "cell_type": "code",
   "execution_count": 3,
   "metadata": {},
   "outputs": [],
   "source": [
    "df = pd.DataFrame(data, \n",
    "                  columns=['post_id', 'post_user', 'comment_id', 'comment_user'])"
   ]
  },
  {
   "cell_type": "code",
   "execution_count": 4,
   "metadata": {},
   "outputs": [],
   "source": [
    "df_new = df.groupby(['post_user', 'comment_user']).size().reset_index()"
   ]
  },
  {
   "cell_type": "code",
   "execution_count": 5,
   "metadata": {},
   "outputs": [
    {
     "data": {
      "text/html": [
       "<div>\n",
       "<style scoped>\n",
       "    .dataframe tbody tr th:only-of-type {\n",
       "        vertical-align: middle;\n",
       "    }\n",
       "\n",
       "    .dataframe tbody tr th {\n",
       "        vertical-align: top;\n",
       "    }\n",
       "\n",
       "    .dataframe thead th {\n",
       "        text-align: right;\n",
       "    }\n",
       "</style>\n",
       "<table border=\"1\" class=\"dataframe\">\n",
       "  <thead>\n",
       "    <tr style=\"text-align: right;\">\n",
       "      <th></th>\n",
       "      <th>post_user</th>\n",
       "      <th>comment_user</th>\n",
       "      <th>weight</th>\n",
       "    </tr>\n",
       "  </thead>\n",
       "  <tbody>\n",
       "    <tr>\n",
       "      <th>0</th>\n",
       "      <td>---------II---------</td>\n",
       "      <td>Inevita92</td>\n",
       "      <td>1</td>\n",
       "    </tr>\n",
       "    <tr>\n",
       "      <th>1</th>\n",
       "      <td>---------II---------</td>\n",
       "      <td>eidorianc</td>\n",
       "      <td>1</td>\n",
       "    </tr>\n",
       "    <tr>\n",
       "      <th>2</th>\n",
       "      <td>---------II---------</td>\n",
       "      <td>only1parkjisung</td>\n",
       "      <td>1</td>\n",
       "    </tr>\n",
       "    <tr>\n",
       "      <th>3</th>\n",
       "      <td>------TooyBooy------</td>\n",
       "      <td>bobfreehuman</td>\n",
       "      <td>1</td>\n",
       "    </tr>\n",
       "    <tr>\n",
       "      <th>4</th>\n",
       "      <td>------what------</td>\n",
       "      <td>jaymancini</td>\n",
       "      <td>1</td>\n",
       "    </tr>\n",
       "    <tr>\n",
       "      <th>...</th>\n",
       "      <td>...</td>\n",
       "      <td>...</td>\n",
       "      <td>...</td>\n",
       "    </tr>\n",
       "    <tr>\n",
       "      <th>2039741</th>\n",
       "      <td>zzzzzz129</td>\n",
       "      <td>grebfar</td>\n",
       "      <td>5</td>\n",
       "    </tr>\n",
       "    <tr>\n",
       "      <th>2039742</th>\n",
       "      <td>zzzzzz129</td>\n",
       "      <td>theycallme1</td>\n",
       "      <td>2</td>\n",
       "    </tr>\n",
       "    <tr>\n",
       "      <th>2039743</th>\n",
       "      <td>zzzzzz129</td>\n",
       "      <td>wallstreetboyfriend</td>\n",
       "      <td>3</td>\n",
       "    </tr>\n",
       "    <tr>\n",
       "      <th>2039744</th>\n",
       "      <td>zzzzzzzzzzzzzqqqqqqq</td>\n",
       "      <td>DunderMuggler</td>\n",
       "      <td>1</td>\n",
       "    </tr>\n",
       "    <tr>\n",
       "      <th>2039745</th>\n",
       "      <td>zzzzzzzzzzzzzzzzs</td>\n",
       "      <td>rabshab21</td>\n",
       "      <td>1</td>\n",
       "    </tr>\n",
       "  </tbody>\n",
       "</table>\n",
       "<p>2039746 rows × 3 columns</p>\n",
       "</div>"
      ],
      "text/plain": [
       "                    post_user         comment_user  weight\n",
       "0        ---------II---------            Inevita92       1\n",
       "1        ---------II---------            eidorianc       1\n",
       "2        ---------II---------      only1parkjisung       1\n",
       "3        ------TooyBooy------         bobfreehuman       1\n",
       "4            ------what------           jaymancini       1\n",
       "...                       ...                  ...     ...\n",
       "2039741             zzzzzz129              grebfar       5\n",
       "2039742             zzzzzz129          theycallme1       2\n",
       "2039743             zzzzzz129  wallstreetboyfriend       3\n",
       "2039744  zzzzzzzzzzzzzqqqqqqq        DunderMuggler       1\n",
       "2039745     zzzzzzzzzzzzzzzzs            rabshab21       1\n",
       "\n",
       "[2039746 rows x 3 columns]"
      ]
     },
     "execution_count": 5,
     "metadata": {},
     "output_type": "execute_result"
    }
   ],
   "source": [
    "df_new['weight'] = df_new[0]\n",
    "df_new = df_new.drop(columns=[0])\n",
    "df_new"
   ]
  },
  {
   "cell_type": "code",
   "execution_count": 105,
   "metadata": {},
   "outputs": [],
   "source": [
    "G = nx.from_pandas_edgelist(df_new, source='comment_user', target='post_user', \n",
    "                            edge_attr='weight', create_using=nx.DiGraph())"
   ]
  },
  {
   "cell_type": "code",
   "execution_count": 7,
   "metadata": {},
   "outputs": [
    {
     "data": {
      "text/plain": [
       "['After_Layer6588', 'carrros', 'Hentitan', 'Cadet_Xero', 'ArcticGold']"
      ]
     },
     "execution_count": 7,
     "metadata": {},
     "output_type": "execute_result"
    }
   ],
   "source": [
    "nodes = list(df_new.sample(10000).post_user)\n",
    "nodes[:5]"
   ]
  },
  {
   "cell_type": "code",
   "execution_count": 8,
   "metadata": {},
   "outputs": [],
   "source": [
    "G = G.subgraph(nodes)"
   ]
  },
  {
   "cell_type": "code",
   "execution_count": 106,
   "metadata": {},
   "outputs": [
    {
     "data": {
      "text/plain": [
       "637395"
      ]
     },
     "execution_count": 106,
     "metadata": {},
     "output_type": "execute_result"
    }
   ],
   "source": [
    "G.number_of_nodes() "
   ]
  },
  {
   "cell_type": "code",
   "execution_count": 107,
   "metadata": {},
   "outputs": [
    {
     "data": {
      "text/plain": [
       "2039746"
      ]
     },
     "execution_count": 107,
     "metadata": {},
     "output_type": "execute_result"
    }
   ],
   "source": [
    "G.number_of_edges()"
   ]
  },
  {
   "cell_type": "code",
   "execution_count": 109,
   "metadata": {},
   "outputs": [
    {
     "data": {
      "text/plain": [
       "3.200128648640168"
      ]
     },
     "execution_count": 109,
     "metadata": {},
     "output_type": "execute_result"
    }
   ],
   "source": [
    "N, K = G.number_of_nodes() , G.number_of_edges()\n",
    "avg_deg = float(K) / N\n",
    "avg_deg"
   ]
  },
  {
   "cell_type": "code",
   "execution_count": 11,
   "metadata": {},
   "outputs": [],
   "source": [
    "in_degrees = list(G.in_degree()) # dictionary node:degree\n",
    "in_values = sorted(set([in_degree[1] for in_degree in in_degrees]))\n",
    "in_hist = [[in_degree[1] for in_degree in in_degrees].count(x) for x in in_values]"
   ]
  },
  {
   "cell_type": "code",
   "execution_count": 133,
   "metadata": {},
   "outputs": [
    {
     "name": "stderr",
     "output_type": "stream",
     "text": [
      "<ipython-input-133-f372c9d95eaf>:7: UserWarning: Attempted to set non-positive left xlim on a log-scaled axis.\n",
      "Invalid limit will be ignored.\n",
      "  plt.xlim([0, 2*10**2])\n"
     ]
    },
    {
     "data": {
      "text/plain": [
       "(0.6188500645217611, 200)"
      ]
     },
     "execution_count": 133,
     "metadata": {},
     "output_type": "execute_result"
    },
    {
     "data": {
      "image/png": "[encoded data removed]",
      "text/plain": [
       "<Figure size 432x288 with 1 Axes>"
      ]
     },
     "metadata": {
      "needs_background": "light"
     },
     "output_type": "display_data"
    }
   ],
   "source": [
    "plt.figure() # you need to first do 'import pylab as plt'\n",
    "plt.grid(True)\n",
    "plt.loglog(in_values, in_hist, 'ro-') # in-degree\n",
    "plt.xlabel('Degree')\n",
    "plt.ylabel('Number of nodes')\n",
    "plt.title('Indegrees in r\\Wallstreetbets posts')\n",
    "plt.xlim([0, 2*10**2])"
   ]
  },
  {
   "cell_type": "code",
   "execution_count": 12,
   "metadata": {},
   "outputs": [
    {
     "name": "stdout",
     "output_type": "stream",
     "text": [
      "0.23324925867365323\n"
     ]
    }
   ],
   "source": [
    "G_ud = G.to_undirected()\n",
    "avg_clustering = nx.average_clustering(G_ud)\n",
    "print(avg_clustering)   "
   ]
  },
  {
   "cell_type": "code",
   "execution_count": 13,
   "metadata": {},
   "outputs": [],
   "source": [
    "from collections import Counter\n",
    "\n",
    "def get_top_keys(dictionary, top):\n",
    "    items = Counter(dictionary).most_common(top)\n",
    "    return items\n",
    "\n",
    "# Connected components are sorted in descending order of their size\n",
    "G_mc = max(nx.connected_components(G_ud), key=len)\n",
    "G_S = G_ud.subgraph(G_mc).copy()"
   ]
  },
  {
   "cell_type": "code",
   "execution_count": 14,
   "metadata": {},
   "outputs": [
    {
     "data": {
      "text/plain": [
       "[('OPINION_IS_UNPOPULAR', 0.6472338066386908),\n",
       " ('AutoModerator', 0.30374507559845904),\n",
       " ('[deleted]', 0.05929871263884435),\n",
       " ('GoBeaversOSU', 0.029256150533507358),\n",
       " ('Bundaga', 0.013044959202834407),\n",
       " ('speakinexistencebro', 0.010128241577837255),\n",
       " ('does-it-mater', 0.009537363509509848),\n",
       " ('Parliament--', 0.009288929562322239),\n",
       " ('DawudM', 0.009182207693844096),\n",
       " ('anchelus', 0.006561235467391775)]"
      ]
     },
     "execution_count": 14,
     "metadata": {},
     "output_type": "execute_result"
    }
   ],
   "source": [
    "# Betweenness centrality\n",
    "bet_cen = nx.betweenness_centrality(G_S)\n",
    "top_bet_cen = get_top_keys(bet_cen,10)\n",
    "top_bet_cen"
   ]
  },
  {
   "cell_type": "code",
   "execution_count": 15,
   "metadata": {},
   "outputs": [
    {
     "data": {
      "text/plain": [
       "[('OPINION_IS_UNPOPULAR', 0.7219480798111994),\n",
       " ('AutoModerator', 0.6198765773233859),\n",
       " ('[deleted]', 0.5255759468957438),\n",
       " ('GoBeaversOSU', 0.48424233702691033),\n",
       " ('zjz', 0.4714205659848697),\n",
       " ('FreakingOutTheNGHBRD', 0.4683368128044537),\n",
       " ('SnooWalruses7854', 0.4674909697138094),\n",
       " ('Lazy_Dragonfruit_727', 0.4667128987517337),\n",
       " ('Sasha_Storm', 0.4660664819944598),\n",
       " ('Parliament--', 0.4656472704628797)]"
      ]
     },
     "execution_count": 15,
     "metadata": {},
     "output_type": "execute_result"
    }
   ],
   "source": [
    "# Closeness centrality\n",
    "clo_cen = nx.closeness_centrality(G_S)\n",
    "top_clo_cen = get_top_keys(clo_cen,10)\n",
    "top_clo_cen"
   ]
  },
  {
   "cell_type": "code",
   "execution_count": 16,
   "metadata": {
    "scrolled": true
   },
   "outputs": [
    {
     "data": {
      "text/plain": [
       "[('OPINION_IS_UNPOPULAR', 0.5511760177783362),\n",
       " ('AutoModerator', 0.3992824891912545),\n",
       " ('[deleted]', 0.11555847160275086),\n",
       " ('GoBeaversOSU', 0.09244230645871235),\n",
       " ('zjz', 0.04853826201368468),\n",
       " ('Bundaga', 0.03472101052542549),\n",
       " ('praguepride', 0.029284215220779827),\n",
       " ('SnooWalruses7854', 0.02926814257494643),\n",
       " ('WorriedBanker', 0.028413419343100967),\n",
       " ('moonski', 0.026844439549557758)]"
      ]
     },
     "execution_count": 16,
     "metadata": {},
     "output_type": "execute_result"
    }
   ],
   "source": [
    "# Eigenvector centrality\n",
    "eig_cen = nx.eigenvector_centrality(G_S)\n",
    "top_eig_cen = get_top_keys(eig_cen,10)\n",
    "top_eig_cen"
   ]
  },
  {
   "cell_type": "code",
   "execution_count": 93,
   "metadata": {},
   "outputs": [
    {
     "data": {
      "text/plain": [
       "<matplotlib.legend.Legend at 0x1cdc11218e0>"
      ]
     },
     "execution_count": 93,
     "metadata": {},
     "output_type": "execute_result"
    },
    {
     "data": {
      "image/png": "[encoded data removed]",
      "text/plain": [
       "<Figure size 432x288 with 1 Axes>"
      ]
     },
     "metadata": {
      "needs_background": "light"
     },
     "output_type": "display_data"
    }
   ],
   "source": [
    "# distribution of centralities\n",
    "plt.figure() # you need to first do 'import pylab as plt'\n",
    "plt.grid(True)\n",
    "plt.hist(np.array(list(bet_cen.values())), label='Betweenness Centrality', bins=10000) # in-degree\n",
    "#plt.hist(np.array(list(clo_cen.values()))/20, label='Closeness Centrality', bins=1000) # in-degree\n",
    "plt.hist(np.array(list(eig_cen.values())), label='Eigenvector Centrality', bins=1000) # in-degree\n",
    "plt.xlabel('Centrality')\n",
    "plt.ylabel('Number of nodes')\n",
    "plt.title('Centrality distribution in r\\Wallstreetbets posts')\n",
    "plt.xlim([0, 0.001])\n",
    "plt.legend()"
   ]
  },
  {
   "cell_type": "code",
   "execution_count": 17,
   "metadata": {},
   "outputs": [
    {
     "data": {
      "text/plain": [
       "['--KillerTofu--',\n",
       " '--ok',\n",
       " '--ph',\n",
       " '-7r4v15-',\n",
       " '-Anonymously-',\n",
       " '-EAT-MY-SHORTS-',\n",
       " '-Listening',\n",
       " '-Mage-Knight-',\n",
       " '-Mr-Popo-',\n",
       " '-NotEvenMyFinalForm-',\n",
       " '-Qwerty--',\n",
       " '-R3DF0X',\n",
       " '-Reverence-',\n",
       " '-SPM-',\n",
       " '-Starflight-',\n",
       " '-Tuber-',\n",
       " '-Workin-it-',\n",
       " '-_Ven_-',\n",
       " '-a_bot-',\n",
       " '-cheeseman673723',\n",
       " '-day-dreamer-',\n",
       " '-expletive-deleted-',\n",
       " '-iwl-',\n",
       " '-jujubean-',\n",
       " '-justsomegirl',\n",
       " '-libertyordeath-',\n",
       " '-paraZite',\n",
       " '-procrastinate-',\n",
       " '-rigga',\n",
       " '-xMrMx-',\n",
       " '00101001000111',\n",
       " '0010110101102011',\n",
       " '007fan007',\n",
       " '01000101010001010',\n",
       " '052801',\n",
       " '0Bubs0',\n",
       " '0nlyGoesUp',\n",
       " '0verlyManlyMan',\n",
       " '0wlbear',\n",
       " '0x97',\n",
       " '0xCr0v4x',\n",
       " '1-Of-Everything',\n",
       " '100GHz',\n",
       " '100geese',\n",
       " '10AMinUzbekistan',\n",
       " '10before15',\n",
       " '10sptuna',\n",
       " '1122Sl110',\n",
       " '12294830754',\n",
       " '123maga',\n",
       " '13Jhm13',\n",
       " '152057',\n",
       " '16tones_',\n",
       " '18Shorty60',\n",
       " '19mad95',\n",
       " '1VentiChloroform',\n",
       " '1_________________11',\n",
       " '1artvandelay',\n",
       " '1ekane',\n",
       " '1lyric',\n",
       " '1nf3ct3d',\n",
       " '20CharacterUsernames',\n",
       " '20Log',\n",
       " '20buxiz20bux',\n",
       " '21932989',\n",
       " '21Dawg',\n",
       " '21randomuser21',\n",
       " '24tee',\n",
       " '29Lex_HD',\n",
       " '2Gloomy',\n",
       " '2ezyo',\n",
       " '2muchparty',\n",
       " '2niner6',\n",
       " '300cowsgomoo',\n",
       " '30withneeds',\n",
       " '348spartan',\n",
       " '3P1C1324',\n",
       " '3betcuyahh',\n",
       " '3raindamage',\n",
       " '3rdEyeJoker',\n",
       " '4-Ra',\n",
       " '40isafailedcaliber',\n",
       " '420SexHaver68',\n",
       " '45over46',\n",
       " '4THASTONKS',\n",
       " '4lifelongfriends',\n",
       " '4quatloos',\n",
       " '4themoneyz',\n",
       " '514link',\n",
       " '56000hp',\n",
       " '564887w',\n",
       " '5gGoblin',\n",
       " '5k1895',\n",
       " '5leafedClover_',\n",
       " '5oclocksunshine',\n",
       " '5th_heavenly_king',\n",
       " '5um11',\n",
       " '666danilo',\n",
       " '71Lu',\n",
       " '76ersPhan11',\n",
       " '777psychonaut777',\n",
       " '777pt2',\n",
       " '78redhonda',\n",
       " '78thusername',\n",
       " '7Colton',\n",
       " '7eve7up',\n",
       " '800oz_gorilla',\n",
       " '84121629',\n",
       " '87fost',\n",
       " '8heist',\n",
       " '8on1979',\n",
       " '8rwg',\n",
       " '9009RPM',\n",
       " '909808606',\n",
       " '90FC_Racer',\n",
       " '91nomis33',\n",
       " '92g07',\n",
       " '95brnco',\n",
       " '99rating',\n",
       " 'A11ENM',\n",
       " 'ABM_',\n",
       " 'ADONIS_VON_MEGADONG',\n",
       " 'ADoIDo',\n",
       " 'AGrandOldMoan',\n",
       " 'AJDillonsMiddleLeg',\n",
       " 'AJnewbie',\n",
       " 'ALPHAdickk',\n",
       " 'ALaTop',\n",
       " 'AMenzfromMillCity',\n",
       " 'ANonUSs',\n",
       " 'API_Exploiter',\n",
       " 'APotatoSalad90',\n",
       " 'AR1911Garand',\n",
       " 'ARZPR_2003',\n",
       " 'ASISlifestyle',\n",
       " 'A_Venger',\n",
       " 'A_Wizard1717',\n",
       " 'A_villain4all',\n",
       " 'Aarondc7',\n",
       " 'Aaronsmth5',\n",
       " 'Aaronwatson270',\n",
       " 'Aball044',\n",
       " 'AbbreviationsBorn746',\n",
       " 'Able_Ad2433',\n",
       " 'Able_Western4318',\n",
       " 'Above-Average-Foot',\n",
       " 'Academic_Bumblebee_6',\n",
       " 'AceOrigins',\n",
       " 'AchilleFortunato',\n",
       " 'Achillesmele',\n",
       " 'Achillles_Last_Stand',\n",
       " 'ActPrestigious4818',\n",
       " 'Active_Airport',\n",
       " 'Acydcat',\n",
       " 'AdGroundbreaking7387',\n",
       " 'AddisonianCorp',\n",
       " 'Additional_Pizza_506',\n",
       " 'AdiGoN',\n",
       " 'Admin-12',\n",
       " 'AdmiralThunderbutts',\n",
       " 'Admiral_Fackbar',\n",
       " 'AdonisChrist',\n",
       " 'AdrenalineRush38',\n",
       " 'Adrianimal',\n",
       " 'Adtayal',\n",
       " 'Adventurous-Month-91',\n",
       " 'Adventurous-Pay-8441',\n",
       " 'Adventurous-Use-8965',\n",
       " 'Aerpolrua',\n",
       " 'AfterDinnerSpeaker',\n",
       " 'After_Layer6588',\n",
       " 'AgainstTheDark',\n",
       " 'Aggravating-Stress30',\n",
       " 'AggravatingPlane2891',\n",
       " 'AggressiveLigma',\n",
       " 'AggressiveYard',\n",
       " 'Aggressive_Respond83',\n",
       " 'AgingCajun',\n",
       " 'Agreeable-Word-4115',\n",
       " 'Aguilaaa',\n",
       " 'Aharmstrong',\n",
       " 'Ahem_ak_achem_ACHOO',\n",
       " 'Aineisa',\n",
       " 'AirbudPage',\n",
       " 'Airiq49',\n",
       " 'Aka_Diamondhands',\n",
       " 'Akahari',\n",
       " 'Akavenn',\n",
       " 'Akemi_Tachibana',\n",
       " 'AkiAdagakiSama',\n",
       " 'Akibatteru',\n",
       " 'AkinWare1',\n",
       " 'AktivHeusser',\n",
       " 'Akwereas',\n",
       " 'AlaskaInWinter',\n",
       " 'AlaskanSamsquanch',\n",
       " 'Albatross104',\n",
       " 'Aleiben',\n",
       " 'AlertLog7868',\n",
       " 'AlexDRibeiro',\n",
       " 'AlexandruC89',\n",
       " 'Alexolala',\n",
       " 'AlfalfaIllustrious17',\n",
       " 'Ali_46290',\n",
       " 'AliciaCanoModel',\n",
       " 'AlisAquilae12',\n",
       " 'AllForASock',\n",
       " 'Allaroundlost',\n",
       " 'AlmondBoyOfSJ',\n",
       " 'Alone_Development_70',\n",
       " 'AlongRiverEem',\n",
       " 'AlphaSierraLima',\n",
       " 'AlreadyDeadTownes',\n",
       " 'Alternative_Buddy155',\n",
       " 'Altruistic-Funny8623',\n",
       " 'AlwaysBrowsingOnly',\n",
       " 'AmadeusSquared',\n",
       " 'AmanWithoutAname_',\n",
       " 'Amazin00',\n",
       " 'AmazingGaia',\n",
       " 'Amazing_Librarian_94',\n",
       " 'Amazing_Succotash677',\n",
       " 'AmbitionObjective526',\n",
       " 'AmbitiousSingh',\n",
       " 'Ambitious_Smell_4075',\n",
       " 'AmbivalentFanatic',\n",
       " 'AmericanJay',\n",
       " 'AmericaninMexico',\n",
       " 'AmesCG',\n",
       " 'Ampgrim',\n",
       " 'Amysumo',\n",
       " 'Analmoose',\n",
       " 'Analoghogdog',\n",
       " 'Anarchist73',\n",
       " 'Anathena',\n",
       " 'Andeyh',\n",
       " 'Andr3s64',\n",
       " 'AndrewRyanism',\n",
       " 'AndrewTFerguson',\n",
       " 'Andrew_the_giant',\n",
       " 'Andrewshutt',\n",
       " 'Angelzbane',\n",
       " 'AngloWaxson',\n",
       " 'Angoram',\n",
       " 'AngryRepublican',\n",
       " 'AnliDota',\n",
       " 'AnomalousParadox',\n",
       " 'Anonbowser',\n",
       " 'Anonmp30',\n",
       " 'AnonymousOverkill',\n",
       " 'Another-Autismo',\n",
       " 'AnsonKindred',\n",
       " 'AntCc1',\n",
       " 'Anthony787_',\n",
       " 'Anti_Luntic',\n",
       " 'Any-Ask-1260',\n",
       " 'Any-Cryptographer-79',\n",
       " 'AnyHoneydew4',\n",
       " 'AnyoneButLiverpool30',\n",
       " 'ApeStonkTogether',\n",
       " 'Apex___',\n",
       " 'Aplz247',\n",
       " 'ApokalypticKing101',\n",
       " 'App2918q',\n",
       " 'Appledoodle',\n",
       " 'Apprehensive-Tear125',\n",
       " 'Apprehensive_Ebb6924',\n",
       " 'Apprehensive_Key_103',\n",
       " 'AppropriateAccount64',\n",
       " 'Appropriate_Big_4459',\n",
       " 'AquatonePeace',\n",
       " 'ArWeed',\n",
       " 'Aranexia',\n",
       " 'ArchieBellTitanUp',\n",
       " 'Archisaurus',\n",
       " 'ArcticGold',\n",
       " 'Ardenator97',\n",
       " 'Area51_Guard',\n",
       " 'Arekanderia',\n",
       " 'Argentum1909',\n",
       " 'Aromatic_Elk_5764',\n",
       " 'Arrow_Flash626',\n",
       " 'ArseneLupinIV',\n",
       " 'ArtConway',\n",
       " 'Artavioyonk',\n",
       " 'Arteaga-2049',\n",
       " 'Artistic-Big-8999',\n",
       " 'Artistic_Necessary77',\n",
       " 'AsIWit',\n",
       " 'AsbestosDude',\n",
       " 'AsensioRonaldo',\n",
       " 'AshNeedsACOG',\n",
       " 'Ashpro2000',\n",
       " 'AshyWaffle',\n",
       " 'Asking4Afren',\n",
       " 'AsleepSuperman',\n",
       " 'Asphaltpaving_trader',\n",
       " 'AssassinDiablo4',\n",
       " 'Assid_rain_',\n",
       " 'Astradari',\n",
       " 'AstralAura369',\n",
       " 'AstroTurfH8r',\n",
       " 'Astronaut-Frost',\n",
       " 'AsunaAkira',\n",
       " 'AtWarWithAll',\n",
       " 'AthKaElGal',\n",
       " 'Aubelance',\n",
       " 'Auhmaze',\n",
       " 'AuodWinter',\n",
       " 'AuriTori',\n",
       " 'Aurtach',\n",
       " 'Austinfromthe605',\n",
       " 'AutoMaticTism',\n",
       " 'AutoModerator',\n",
       " 'AvalieV',\n",
       " 'AvenDonn',\n",
       " 'AvgSizedPenis',\n",
       " 'Awesome____Sauce',\n",
       " 'AxelMaxelAlex',\n",
       " 'Ayoonicky',\n",
       " 'Ayrane',\n",
       " 'AyyyyyyyLemao',\n",
       " 'AzureForce',\n",
       " 'Azurpha',\n",
       " 'AzusaNakajou',\n",
       " 'B-416',\n",
       " 'B0ng3y3s',\n",
       " 'B2BW-YOLO-369',\n",
       " 'B33fh4mmer',\n",
       " 'BABarracus',\n",
       " 'BALD-HEADED_HOE',\n",
       " 'BATHTUBSURFER',\n",
       " 'BBTurnaround',\n",
       " 'BENshakalaka',\n",
       " 'BGArtman',\n",
       " 'BS-Ding',\n",
       " 'BSnIA',\n",
       " 'BTISME123',\n",
       " 'B_Sho',\n",
       " 'Baalrogg',\n",
       " 'Babbeller',\n",
       " 'BabblingBaboBertl',\n",
       " 'Baboopolis',\n",
       " 'BabyNickels',\n",
       " 'BabyYoduhh',\n",
       " 'Background-Corner-73',\n",
       " 'Background-Garlic854',\n",
       " 'BadBadBrownStuff',\n",
       " 'BadKidGames',\n",
       " 'BadSpelling101',\n",
       " 'BadWoodworking',\n",
       " 'Badragz',\n",
       " 'Bagelstein',\n",
       " 'BagofBabbish',\n",
       " 'BakaSamasenpai',\n",
       " 'BakedAvocado3',\n",
       " 'Ballsiest',\n",
       " 'Bamboozle38',\n",
       " 'BananasForScale237',\n",
       " 'Banane007',\n",
       " 'Bandanananda',\n",
       " 'Bankrulle',\n",
       " 'BannedDotVideoDotCom',\n",
       " 'BaphometHorns',\n",
       " 'Barbie_and_KenM',\n",
       " 'Bartins',\n",
       " 'Baschoen23',\n",
       " 'Baseidou',\n",
       " 'Baselet',\n",
       " 'BashfulTurtle',\n",
       " 'BasisDramatic',\n",
       " 'Bastion_Sov',\n",
       " 'Bath',\n",
       " 'BattlingLemon',\n",
       " 'Baviprim',\n",
       " 'BaxterDude012',\n",
       " 'Bballkingg17',\n",
       " 'BeachBarBortles69',\n",
       " 'BeamTeam',\n",
       " 'BeardlessPete',\n",
       " 'Bearstone43',\n",
       " 'BearyAnal',\n",
       " 'BeatYa1337',\n",
       " 'Beautiful_Run_2029',\n",
       " 'Beefer69420',\n",
       " 'BeerCat88',\n",
       " 'Beetrout',\n",
       " 'BeforeWSBprivate',\n",
       " 'BeggerTcs',\n",
       " 'Bell-Suck',\n",
       " 'BenWinnin',\n",
       " 'Ben_Frank_Lynn',\n",
       " 'Bender-Spirit',\n",
       " 'Bendetto4',\n",
       " 'Bendoveritsnotrpe',\n",
       " 'Beneficial-Sign-569',\n",
       " 'BeneficialPossible',\n",
       " 'Beneficial_Ad9475',\n",
       " 'Benzimami',\n",
       " 'Bergen_is_here',\n",
       " 'BernardoDeGalvez',\n",
       " 'BernieThurut',\n",
       " 'BertNErnieSanders',\n",
       " 'Beschuitelia',\n",
       " 'Best-Marionberry1159',\n",
       " 'Bestguy2020',\n",
       " 'Betterthantoast123',\n",
       " 'Bettorthanyou11',\n",
       " 'Betwixts',\n",
       " 'Bghost022',\n",
       " 'Bhamilton0347',\n",
       " 'BiCWhitest',\n",
       " 'Biegzy4444',\n",
       " 'Big-Cauliflower-8767',\n",
       " 'Big-Guy-Blue',\n",
       " 'Big-Josh-Vegan',\n",
       " 'Big-Papa-Dickerd',\n",
       " 'Big-Telephone9018',\n",
       " 'BigAlDogg',\n",
       " 'BigAlTrading',\n",
       " 'BigBlackWifey',\n",
       " 'BigBoiBenis',\n",
       " 'BigBuck414',\n",
       " 'BigFellaBingus',\n",
       " 'BigFlatsisgood',\n",
       " 'BigGainzValue',\n",
       " 'BigJuicyThanos',\n",
       " 'BigMapleTree',\n",
       " 'BigPPTrader',\n",
       " 'BigZard',\n",
       " 'Big_Daddy_Drams',\n",
       " 'Bigbigballer33',\n",
       " 'BiggiCalls',\n",
       " 'Biggshott504',\n",
       " 'Bighomiecoffee',\n",
       " 'Bihjsouza',\n",
       " 'BillTheCommunistCat',\n",
       " 'Billy_Butcherson',\n",
       " 'BinBeanie',\n",
       " 'BioDriver',\n",
       " 'BioMetricSmallz',\n",
       " 'BiotechJon',\n",
       " 'Birab10',\n",
       " 'BirthdayCakeEveryday',\n",
       " 'Biscuitgod1',\n",
       " 'Biscuitsnblunts',\n",
       " 'Bison-Silly',\n",
       " 'Bitchfighter',\n",
       " 'Bjay_jw',\n",
       " 'Black_Cadillacs',\n",
       " 'Blackbeerdo',\n",
       " 'Blackco741',\n",
       " 'Blackdoomax',\n",
       " 'Blackwatch15',\n",
       " 'Blakred',\n",
       " 'Blatheringman',\n",
       " 'BleachedTaint',\n",
       " 'Blenos',\n",
       " 'BlessedWake',\n",
       " 'Blihzard',\n",
       " 'Blinkyeyeskitten',\n",
       " 'BlitzComet95',\n",
       " 'Blitzkreig11930',\n",
       " 'Blondbox',\n",
       " 'BlueDreaming710',\n",
       " 'BlueZ_DJ',\n",
       " 'Bluesteak98',\n",
       " 'Blyons04',\n",
       " 'Bnicetowho11',\n",
       " 'Bo_Diggs',\n",
       " 'BoardingBrownie',\n",
       " 'BobBlonsky',\n",
       " 'BobIoblaw',\n",
       " 'BobNanna',\n",
       " 'BobbyLeeSwaggerr',\n",
       " 'BogBogTheGreat',\n",
       " 'BoilerMaker36',\n",
       " 'Bokhult',\n",
       " 'BonahSauceeeTV',\n",
       " 'BondEnthalpy',\n",
       " 'Bonna_the_Idol',\n",
       " 'Boogyman422',\n",
       " 'Boomer_Millennial',\n",
       " 'Boomertrader1973',\n",
       " 'BootySenpai',\n",
       " 'Boppola1',\n",
       " 'BoredLoser98',\n",
       " 'BorisYeltzen',\n",
       " 'BossMcHogg',\n",
       " 'BotakGuy',\n",
       " 'Bottle_Only',\n",
       " 'BottledUp',\n",
       " 'Bourk',\n",
       " 'Bowlerguy92',\n",
       " 'BowlingTopher',\n",
       " 'Br0sBeforePr0s',\n",
       " 'Br760',\n",
       " 'BradGroux',\n",
       " 'Bran_Musk',\n",
       " 'Branbil',\n",
       " 'BrassDoorKnob123',\n",
       " 'BreezyWrigley',\n",
       " 'Bright_Percentage_39',\n",
       " 'BrilliantOpinion',\n",
       " 'BringOnTheMush',\n",
       " 'Broed_Out_Hipster',\n",
       " 'Brofey',\n",
       " 'Brofudge',\n",
       " 'BrokeAutist23',\n",
       " 'BrokeEngineeringKid',\n",
       " 'BrokeOnOak',\n",
       " 'Brokebutfree',\n",
       " 'Broski00',\n",
       " 'BrotAimzV',\n",
       " 'BrunoRib',\n",
       " 'BrutalStonks',\n",
       " 'Brycelette',\n",
       " 'BubbleTeaExtraSweet',\n",
       " 'Bubbly_Cartoonist_47',\n",
       " 'BucNasty_Autist',\n",
       " 'Buddhaton',\n",
       " 'BuddyWiggins',\n",
       " 'BuffaloDong',\n",
       " 'Buffalo_Soldier',\n",
       " 'BullSchitts',\n",
       " 'Bull_Winkle69',\n",
       " 'Bullspull',\n",
       " 'Bundaga',\n",
       " 'BunglesMcDungles',\n",
       " 'BurkeAbroad',\n",
       " 'Burnit0ut',\n",
       " 'BurtDickinson',\n",
       " 'Busch__Latte',\n",
       " 'BusinessDisaster1984',\n",
       " 'Buster1012',\n",
       " 'CBrownsRedDevils',\n",
       " 'CCerta112',\n",
       " 'CEO_OF_SPY',\n",
       " 'CHR1524PC',\n",
       " 'CIark',\n",
       " 'CM2Seabee',\n",
       " 'COVIDMadeMeANewt',\n",
       " 'CPTHubbard',\n",
       " 'CR7-jr-',\n",
       " 'CRich19',\n",
       " 'C_Nova',\n",
       " 'CabidoMusic',\n",
       " 'CableGuyAlien',\n",
       " 'Cacoo',\n",
       " 'Cadet_Xero',\n",
       " 'Caesorius',\n",
       " 'Cal_Macc',\n",
       " 'Calepria',\n",
       " 'CaliStockBros',\n",
       " 'Calithrix',\n",
       " 'CallinCthulhu',\n",
       " 'Calm-Management-9297',\n",
       " 'CamachoNotSure',\n",
       " 'CanUCountToTenBilly',\n",
       " 'CanadaBorn',\n",
       " 'CandidateStraight',\n",
       " 'Candoran',\n",
       " 'Canoped',\n",
       " 'Canthoney1',\n",
       " 'Capital_Extension479',\n",
       " 'Capital_List_1210',\n",
       " 'CapitalistNormie',\n",
       " 'Capitantaters',\n",
       " 'CapitolGee34',\n",
       " 'Capt_Loko',\n",
       " 'Captain-titanic',\n",
       " 'Captaincoolbeans',\n",
       " 'Captaincous21',\n",
       " 'CaptnCrunchh',\n",
       " 'Caraechango',\n",
       " 'CardCollex',\n",
       " 'Cardiff07',\n",
       " 'CareerLow',\n",
       " 'Careful-Analyst3185',\n",
       " 'CarneAsadaFriezzz',\n",
       " 'Catastropher23',\n",
       " 'CaterpillarIcy1552',\n",
       " 'CauliflowerLogical29',\n",
       " 'Caw_86',\n",
       " 'CellSaga21',\n",
       " 'CellarAndShed',\n",
       " 'Centralmuckin',\n",
       " 'CforChewbacca',\n",
       " 'Cha-La-Mao',\n",
       " 'Chabuds',\n",
       " 'Chagdoo',\n",
       " 'Chalupabar',\n",
       " 'Chan1991',\n",
       " 'ChanguitoEmpire',\n",
       " 'Character-Audience16',\n",
       " 'Character-Height9771',\n",
       " 'Character_LB98',\n",
       " 'Character_Repair661',\n",
       " 'Charleyfreidai',\n",
       " 'Charlie-Woodland',\n",
       " 'Charly_blanco30',\n",
       " 'Charm_City_Jangles',\n",
       " 'CheckOutMyStonk',\n",
       " 'CheddarCheeks',\n",
       " 'ChedderMcBeaver',\n",
       " 'Cheeverbeaverhand',\n",
       " 'Chef_Sasquatch',\n",
       " 'Chefedout',\n",
       " 'Chefitutide',\n",
       " 'CheriJ2',\n",
       " 'CherrehCoke',\n",
       " 'Chers-Tuthimune',\n",
       " 'ChesterArthur21',\n",
       " 'Chgralac73',\n",
       " 'Chiaope',\n",
       " 'ChicagoSouthSuburbs1',\n",
       " 'ChickBrain',\n",
       " 'ChickenSlammer20',\n",
       " 'Chief705',\n",
       " 'Chief_Mclovin',\n",
       " 'ChiknBreast',\n",
       " 'ChillyChats',\n",
       " 'Chimichangas33',\n",
       " 'Chogo82',\n",
       " 'Choice-Efficiency257',\n",
       " 'ChoicePound5745',\n",
       " 'Chonch1224',\n",
       " 'Chooch_Pooperton',\n",
       " 'Chr0ll0_',\n",
       " 'Chreest',\n",
       " 'Chris-Ohio',\n",
       " 'Chrisboyd240',\n",
       " 'Chrisinv3st',\n",
       " 'ChristianIsReal',\n",
       " 'Chrushev',\n",
       " 'Chrysler4471',\n",
       " 'Chubbymcgrubby',\n",
       " 'ChupaChalupa',\n",
       " 'Chuyeowns',\n",
       " 'CircusLife2021',\n",
       " 'CityForAnts',\n",
       " 'Citybytheshit',\n",
       " 'Civil-Calligrapher-2',\n",
       " 'Civil_Ad9851',\n",
       " 'Cjlannan',\n",
       " 'CkresCho',\n",
       " 'Cladellain',\n",
       " 'Claffey1',\n",
       " 'Claironet',\n",
       " 'ClassActionRobinHood',\n",
       " 'ClassicIntroduction3',\n",
       " 'Classic_Mother',\n",
       " 'Classic_Touch',\n",
       " 'Classic_Which',\n",
       " 'Clean-Emergency',\n",
       " 'Clewless2',\n",
       " 'Clews207',\n",
       " 'ClickClickBoom82',\n",
       " 'ClimateCivil',\n",
       " 'Clingy-Senpai',\n",
       " 'ClintBIgwood',\n",
       " 'Clitoris_Thief',\n",
       " 'Clix69',\n",
       " 'CloakedCrusader',\n",
       " 'Clownski',\n",
       " 'Clutch-Thee1',\n",
       " 'Clutch3131',\n",
       " 'Clutch_83',\n",
       " 'CoconutBites',\n",
       " 'Coda70',\n",
       " 'CodeMaitre',\n",
       " 'CokeRobot',\n",
       " 'Cola9',\n",
       " 'Cold_Delivery_MXIC',\n",
       " 'Colin9001',\n",
       " 'CologneSoFresh',\n",
       " 'ColonalQball',\n",
       " 'CombatBBQ_EINFC',\n",
       " 'ComeAtMeOnii',\n",
       " 'Comfortable-Jacket29',\n",
       " 'ComfortableJaguar341',\n",
       " 'Comfortable_Alps524',\n",
       " 'CommieGoldfish',\n",
       " 'Common-Additional',\n",
       " 'Common_Painting_2749',\n",
       " 'Competitive-Dark-169',\n",
       " 'Complete-Conclusion1',\n",
       " 'Complete_Glass_2877',\n",
       " 'Complete_Sale_9616',\n",
       " 'Complex-Shelter-1750',\n",
       " 'Comprehensive_Cat_31',\n",
       " 'Comprehensive_Error1',\n",
       " 'Comprehensive_Tear17',\n",
       " 'ComradeJeb',\n",
       " 'ConBroMitch',\n",
       " 'ConditionNeither',\n",
       " 'Confusion-Flimsy',\n",
       " 'Congo7500',\n",
       " 'Congo_King',\n",
       " 'Conner14',\n",
       " 'ConnorPRose',\n",
       " 'ConsciousPollution59',\n",
       " 'Conscious_Barnacle55',\n",
       " 'ConsistentOil7895',\n",
       " 'Conspire2Aspire',\n",
       " 'ConsttutionalPeasant',\n",
       " 'Contextual-Investor',\n",
       " 'ContributionOk7416',\n",
       " 'ControlPlusZ',\n",
       " 'ControlsTheWeather',\n",
       " 'CookieDunk',\n",
       " 'CoolBreeze5000',\n",
       " 'Coolingmoon',\n",
       " 'Coolkidnodrugz',\n",
       " 'Coolstorybro202',\n",
       " 'Cootjee',\n",
       " 'CopenhagenOriginal',\n",
       " 'CopperSavant',\n",
       " 'Core_S',\n",
       " 'CorkloverTF',\n",
       " 'Corn-P0P',\n",
       " 'CornHubPresident',\n",
       " 'CornchipUSN',\n",
       " 'Correct-Duck8038',\n",
       " 'CorrectButton',\n",
       " 'CorruptCase',\n",
       " 'CortlenC',\n",
       " 'CosmicChickens',\n",
       " 'Cosmicbody',\n",
       " 'Cosmobile99',\n",
       " 'Cottagecheesecurls',\n",
       " 'Courtax',\n",
       " 'Covid19KilledEpstein',\n",
       " 'Cowboy_Electric',\n",
       " 'CptStarFall',\n",
       " 'Cptn_Canada',\n",
       " 'CrabStarShip',\n",
       " 'Crafty-Yoghurt-6296',\n",
       " 'Crafty_Anteater6783',\n",
       " 'Cratic_Elite',\n",
       " 'Craze015',\n",
       " 'CrazyAlbinoTucan',\n",
       " 'Crazybritzombie',\n",
       " 'Crazydavion1',\n",
       " 'Crazyhorse6901',\n",
       " 'Creatorofthistime',\n",
       " 'CreepingFog',\n",
       " 'Crink1es',\n",
       " 'CriticalPapi',\n",
       " 'Criviere',\n",
       " 'CroakyBear1997',\n",
       " 'Crockettr1212',\n",
       " 'Croneseus',\n",
       " 'CronusToTheMax',\n",
       " 'CrucialVibes',\n",
       " 'CrummyDayTrader',\n",
       " 'CruzControls',\n",
       " 'CrypticGator',\n",
       " 'Cryptocrazy90',\n",
       " 'Cryptoguruboss',\n",
       " 'Cunning-Stunt-',\n",
       " 'CuntBitchSlut',\n",
       " 'CuntyAnne_Conway',\n",
       " 'Current-Confident',\n",
       " 'Current_Degree_1294',\n",
       " 'CurveAhead69',\n",
       " 'Cuvie-Lover69',\n",
       " 'Cuzimahustler',\n",
       " 'CyBuzz-CyBuzz',\n",
       " 'Cyb0Ninja',\n",
       " 'Cyclist_77',\n",
       " 'CyclonicSALT',\n",
       " 'Cynical_vibe',\n",
       " 'Cypherazul_0',\n",
       " 'Cyrelius',\n",
       " 'Cystro',\n",
       " 'D14form',\n",
       " 'D3ltra',\n",
       " 'DDay_woke',\n",
       " 'DDogTaken',\n",
       " 'DGNR8bebebuba',\n",
       " 'DHK007',\n",
       " 'DJLowKey',\n",
       " 'DJ_Fabulous',\n",
       " 'DJisDopeAF',\n",
       " 'DLane69',\n",
       " 'DMBofficial',\n",
       " 'DOGEAN0N',\n",
       " 'DONNZONE',\n",
       " 'DRay6t',\n",
       " 'DURRHUNT3R',\n",
       " 'DUXICON',\n",
       " 'D_Winds',\n",
       " 'Da-Donn',\n",
       " 'DaBi5cu1t',\n",
       " 'DaDuke95',\n",
       " 'DaTorontonian',\n",
       " 'Da_WallstreetBeast',\n",
       " 'Dabblingonline',\n",
       " 'Daddy616',\n",
       " 'Daddy_senpai233',\n",
       " 'Daemos85',\n",
       " 'DagodZyzz',\n",
       " 'Dalmahr',\n",
       " 'DamCrawBugs420',\n",
       " 'DanBeecherArt',\n",
       " 'DanKonly',\n",
       " 'DanMoshpit69',\n",
       " 'DanYourRealEstateMan',\n",
       " 'Dan_inKuwait',\n",
       " 'Daniel3gs',\n",
       " 'DanielCofour',\n",
       " 'Daniel_Day_Hubris',\n",
       " 'Daniel_Pokemon',\n",
       " 'Danielsoleimani',\n",
       " 'DankAMemeAthon',\n",
       " 'Dankemon',\n",
       " 'DankusDags',\n",
       " 'DantesInferno91',\n",
       " 'DapperDanno72',\n",
       " 'Dario831',\n",
       " 'DarkFlow123',\n",
       " 'DarkMoon1563',\n",
       " 'DarkPainter561',\n",
       " 'Darksol503',\n",
       " 'DarthAzr3n',\n",
       " 'Darth_Syd',\n",
       " 'Dasky34',\n",
       " 'DatSaltyAlmond',\n",
       " 'DatTrashPanda',\n",
       " 'Dat_Steve',\n",
       " 'DataOwl666',\n",
       " 'DavH27',\n",
       " 'DaveTheDog027',\n",
       " 'Davehkiin',\n",
       " 'DaveyJohnsonsGhost',\n",
       " 'David21538',\n",
       " 'David_Umstattd',\n",
       " 'Davidjaa',\n",
       " 'Davscozal',\n",
       " 'DawnOfTheTruth',\n",
       " 'DawsonLamb28',\n",
       " 'DawudM',\n",
       " 'Day2205',\n",
       " 'Daytona116595RBOW',\n",
       " 'Daytona66',\n",
       " 'Dazork04',\n",
       " 'DazzJuggernaut',\n",
       " 'Ddave19',\n",
       " 'Ddvvaasskk',\n",
       " 'DePoots',\n",
       " 'Dead2Reitz',\n",
       " 'DeadFamilyMan',\n",
       " 'DeadSol',\n",
       " 'DeadbyFrag',\n",
       " 'DeanDeanington',\n",
       " 'DeathBefallsYou',\n",
       " 'DeathN0va',\n",
       " 'Deathbarrage',\n",
       " 'DecentCupid1',\n",
       " 'DecentPineapple',\n",
       " 'DeeRockafeller',\n",
       " 'DeepBuddy5',\n",
       " 'Deep_Presentation',\n",
       " 'DefNotaZombie',\n",
       " 'DefinitelyIncorrect',\n",
       " 'DegenLurker',\n",
       " 'DeliciousBit1',\n",
       " 'DeliciousJam',\n",
       " 'DelrayDelusion',\n",
       " 'Delta15038',\n",
       " 'DemonicAmoeba',\n",
       " 'DenXOffWhite',\n",
       " 'DennisMoves',\n",
       " 'Dense_Monk',\n",
       " 'Denverdude98',\n",
       " 'Denversaur',\n",
       " 'DeonB44',\n",
       " 'Dependent-Interview6',\n",
       " 'DerFinn16',\n",
       " 'Derpy_Toast',\n",
       " 'DesiNazi',\n",
       " 'Desi_HipHop_2020',\n",
       " 'DesignStrategistMD',\n",
       " 'Dessiato',\n",
       " 'DevaluedGamer',\n",
       " 'DevantLaMachine',\n",
       " 'DeverusX',\n",
       " 'Devine-Shadow',\n",
       " 'Devlingrae',\n",
       " 'Devotchka8',\n",
       " 'Dh-ideal',\n",
       " 'Dhillon50',\n",
       " 'Diacry',\n",
       " 'DictatorInPerpetuity',\n",
       " 'Different-Power-2196',\n",
       " 'Different_Shopping_3',\n",
       " 'DifficultQuestion568',\n",
       " 'Diggs4President',\n",
       " 'Diligent-Charge-4910',\n",
       " 'Dilla528',\n",
       " 'DillonSyp',\n",
       " 'DimesOnHisEyes',\n",
       " 'DimoX9',\n",
       " 'DindeMagique',\n",
       " 'DingLeiGorFei',\n",
       " 'DinglerBerries',\n",
       " 'DingoProfessional635',\n",
       " 'DingusSwarm',\n",
       " 'Dinosaur_Eats_Pizza',\n",
       " 'DionysianWisdom',\n",
       " 'Disada1',\n",
       " 'Disastrous-Neat8309',\n",
       " 'Disastrous-Smell-728',\n",
       " 'DisastrousBluebirb',\n",
       " 'Disastrous_Name8687',\n",
       " 'DisembarkEmbargo',\n",
       " 'Disheveled_Politico',\n",
       " 'DisneysGaston',\n",
       " 'Dispose_Paratroopers',\n",
       " 'DivineMuffin',\n",
       " 'DivingDeep21',\n",
       " 'DivySuresh',\n",
       " 'Diznerd',\n",
       " 'Djrustik84',\n",
       " 'Dk5823',\n",
       " 'DoIt4TheMayMays',\n",
       " 'Doc_LaVoy',\n",
       " 'DoctorProfessor69',\n",
       " 'Docxm',\n",
       " 'Doffy13',\n",
       " 'DogZoss',\n",
       " 'DogeNeverEndin',\n",
       " 'DominckDicacco',\n",
       " 'DonBonJovi88',\n",
       " 'DonDanteDani',\n",
       " 'Don_Kehote',\n",
       " 'DonaldPump1',\n",
       " 'DonkStonx',\n",
       " 'DonnyDuck20',\n",
       " 'DontShitBricks',\n",
       " 'DontkickDumpster',\n",
       " 'DooberDrivah',\n",
       " 'Doog5',\n",
       " 'Doovster',\n",
       " 'DopeAzzMcGee',\n",
       " 'Dorian182',\n",
       " 'DoritosHD',\n",
       " 'Dot1red',\n",
       " 'DoubleKillGG',\n",
       " 'DouseewhatugetCarla',\n",
       " 'Down2TheKnee',\n",
       " 'DowntownStation',\n",
       " 'Dpizzle2024',\n",
       " 'DrDuma',\n",
       " 'DrEvil007',\n",
       " 'DrTommyNotMD',\n",
       " 'Dr_DLT',\n",
       " 'Dr_OddBall',\n",
       " 'Dr_Spice_',\n",
       " 'Dracarys723',\n",
       " 'Dracox96',\n",
       " 'Dragonius6',\n",
       " 'Drakhov',\n",
       " 'Dramatic_Bandicoot98',\n",
       " 'Drathothic',\n",
       " 'Draviddavid',\n",
       " 'DrawlsMyMan',\n",
       " 'Draws4u0309',\n",
       " 'DreCapitano',\n",
       " 'Dreeter',\n",
       " 'DressMetal',\n",
       " 'Drew4Brew',\n",
       " 'Drew_Woodruff',\n",
       " 'Drink_7725',\n",
       " 'Driver_Prize',\n",
       " 'DroneGuruSD2',\n",
       " 'Drortmeyer2017',\n",
       " 'Drovvves',\n",
       " 'Drswing69',\n",
       " 'Druddenjemad',\n",
       " 'Dry-Park4599',\n",
       " 'Dry-University797',\n",
       " 'Dswimanator',\n",
       " 'Dub_TF',\n",
       " 'DuckHoarder',\n",
       " 'Duckinator617',\n",
       " 'Duckmman',\n",
       " 'Dude577557',\n",
       " 'DudeChiefBoss',\n",
       " 'Due-Plan-799',\n",
       " 'Dull-Cobbler-9091',\n",
       " 'DumbledoresGay69',\n",
       " 'Dunderermifflin',\n",
       " 'Dunkman83',\n",
       " 'DustinEwan',\n",
       " 'Dustizzle',\n",
       " 'Duzand',\n",
       " 'Dviation',\n",
       " 'Dyl_is_OP',\n",
       " ...]"
      ]
     },
     "execution_count": 17,
     "metadata": {},
     "output_type": "execute_result"
    }
   ],
   "source": [
    "from networkx.algorithms.community import greedy_modularity_communities\n",
    "c = list(greedy_modularity_communities(G_ud))\n",
    "sorted(c[0])"
   ]
  },
  {
   "cell_type": "code",
   "execution_count": 78,
   "metadata": {},
   "outputs": [
    {
     "name": "stdout",
     "output_type": "stream",
     "text": [
      "2669\n",
      "[1, 2, 6731]\n"
     ]
    },
    {
     "data": {
      "text/plain": [
       "Text(0.5, 1.0, 'Community sizes in r\\\\Wallstreetbets posts')"
      ]
     },
     "execution_count": 78,
     "metadata": {},
     "output_type": "execute_result"
    },
    {
     "data": {
      "image/png": "[encoded data removed]",
      "text/plain": [
       "<Figure size 432x288 with 1 Axes>"
      ]
     },
     "metadata": {
      "needs_background": "light"
     },
     "output_type": "display_data"
    }
   ],
   "source": [
    "print(len(c)) \n",
    "values = sorted(set([len(cc) for cc in c]))\n",
    "print(values)\n",
    "hist = [[len(cc) for cc in c].count(x) for x in values]\n",
    "plt.figure() # you need to first do 'import pylab as plt'\n",
    "plt.grid(True)\n",
    "plt.loglog(values, hist, 'ro-') # in-degree\n",
    "plt.xlabel('Degree')\n",
    "plt.ylabel('Number of nodes')\n",
    "plt.title('Community sizes in r\\Wallstreetbets posts')"
   ]
  },
  {
   "cell_type": "code",
   "execution_count": 79,
   "metadata": {},
   "outputs": [
    {
     "data": {
      "text/plain": [
       "1"
      ]
     },
     "execution_count": 79,
     "metadata": {},
     "output_type": "execute_result"
    }
   ],
   "source": [
    "len([len(cc) for cc in c if len(cc) > 2])"
   ]
  },
  {
   "cell_type": "code",
   "execution_count": 137,
   "metadata": {},
   "outputs": [
    {
     "data": {
      "text/plain": [
       "[('[deleted]', 0.042791061639248944),\n",
       " ('dogeball40', 0.0009081929528642265),\n",
       " ('iamchromes', 0.0008963537974357835),\n",
       " ('MangoManYummy', 0.0008492060678121758),\n",
       " ('nosalute', 0.0007088010587853259),\n",
       " ('Halizones', 0.0006987139570287178),\n",
       " ('GoBeaversOSU', 0.0006849156811297568),\n",
       " ('bowtiewonder', 0.0006587370968132452),\n",
       " ('ifblueiwas2', 0.0006558638561616221),\n",
       " ('oregon_forever', 0.0006460846883699535),\n",
       " ('Early_Forever1058', 0.0006410419138257106),\n",
       " ('badgerbacon6', 0.000583504198051615),\n",
       " ('giantwashcapsfan8', 0.0005800917767138041),\n",
       " ('mikemechanics', 0.0005298981444959313),\n",
       " ('FaithlessnessFree331', 0.0005290467497886705),\n",
       " ('JawnxWick', 0.0005226589507924219),\n",
       " ('STONKS_ONLY_GO_UP3', 0.0005189312071389952),\n",
       " ('hshamza', 0.0005157852064799397),\n",
       " ('Prestigious_Count_62', 0.0005134220043637907),\n",
       " ('disneysinger', 0.0005029588313566837)]"
      ]
     },
     "execution_count": 137,
     "metadata": {},
     "output_type": "execute_result"
    }
   ],
   "source": [
    "from networkx.algorithms.link_analysis.hits_alg import hits\n",
    "h, a = nx.hits(G)\n",
    "Counter(a).most_common(20)"
   ]
  },
  {
   "cell_type": "code",
   "execution_count": 100,
   "metadata": {},
   "outputs": [
    {
     "data": {
      "text/plain": [
       "<matplotlib.legend.Legend at 0x1ce80382ca0>"
      ]
     },
     "execution_count": 100,
     "metadata": {},
     "output_type": "execute_result"
    },
    {
     "data": {
      "image/png": "[encoded data removed]",
      "text/plain": [
       "<Figure size 432x288 with 1 Axes>"
      ]
     },
     "metadata": {
      "needs_background": "light"
     },
     "output_type": "display_data"
    }
   ],
   "source": [
    "from networkx.algorithms.link_analysis.hits_alg import hits\n",
    "h, a = nx.hits(G)\n",
    "\n",
    "plt.figure() # you need to first do 'import pylab as plt'\n",
    "plt.grid(True)\n",
    "plt.hist(np.array(list(a.values())), label='Authorities', bins=10000) # in-degree\n",
    "plt.xlabel('HIITS')\n",
    "plt.ylabel('Number of nodes')\n",
    "plt.title('Authority distribution in r\\Wallstreetbets posts')\n",
    "plt.xlim([0, 0.001])\n",
    "plt.legend()"
   ]
  },
  {
   "cell_type": "code",
   "execution_count": 102,
   "metadata": {},
   "outputs": [
    {
     "data": {
      "text/plain": [
       "<matplotlib.legend.Legend at 0x1ce915a7a00>"
      ]
     },
     "execution_count": 102,
     "metadata": {},
     "output_type": "execute_result"
    },
    {
     "data": {
      "image/png": "[encoded data removed]",
      "text/plain": [
       "<Figure size 432x288 with 1 Axes>"
      ]
     },
     "metadata": {
      "needs_background": "light"
     },
     "output_type": "display_data"
    }
   ],
   "source": [
    "plt.figure() # you need to first do 'import pylab as plt'\n",
    "plt.grid(True)\n",
    "plt.hist(np.array(list(h.values())), label='Hubs', bins=100000) # in-degree\n",
    "plt.xlabel('HIITS')\n",
    "plt.ylabel('Number of nodes')\n",
    "plt.title('Hubs distribution in r\\Wallstreetbets posts')\n",
    "plt.xlim([0, 0.0003])\n",
    "plt.legend()\n",
    "f.savefig('linkpost_breakdown.png', bbox_inches = 'tight', dpi = 300)\n"
   ]
  },
  {
   "cell_type": "code",
   "execution_count": 138,
   "metadata": {},
   "outputs": [
    {
     "data": {
      "text/plain": [
       "[('OPINION_IS_UNPOPULAR', 0.2615056183102393),\n",
       " ('AutoModerator', 0.20799957658265567),\n",
       " ('wallstreetboyfriend', 0.04441123780805574),\n",
       " ('MotorizedDoucheCanoe', 0.041426001596699784),\n",
       " ('grebfar', 0.03741629179005534),\n",
       " ('theycallmeryan', 0.018991393937579804),\n",
       " ('ITradeBaconFutures', 0.016553157461450124),\n",
       " ('GoBeaversOSU', 0.013194867101506259),\n",
       " ('Stylux', 0.012134810056618728),\n",
       " ('theycallme1', 0.009250510604073899),\n",
       " ('DeepFuckingValue', 0.007699020300412647),\n",
       " ('SignedUpWhilePooping', 0.006025095566740748),\n",
       " ('premier_', 0.00572871929410383),\n",
       " ('bawse1', 0.002773589760826366),\n",
       " ('CallsOnAlcoholism', 0.0026646267046126684),\n",
       " ('zjz', 0.002269519289940211),\n",
       " ('dhiral1994', 0.0016081786134267944),\n",
       " ('keenfeed', 0.0014033257682097657),\n",
       " ('SubstantialTent', 0.001340148987097453),\n",
       " ('SomeGuyInDeutschland', 0.001116601791256455)]"
      ]
     },
     "execution_count": 138,
     "metadata": {},
     "output_type": "execute_result"
    }
   ],
   "source": [
    "Counter(h).most_common(20)"
   ]
  },
  {
   "cell_type": "code",
   "execution_count": 18,
   "metadata": {},
   "outputs": [
    {
     "data": {
      "text/plain": [
       "0.017089914070375883"
      ]
     },
     "execution_count": 18,
     "metadata": {},
     "output_type": "execute_result"
    }
   ],
   "source": [
    "from networkx.algorithms.reciprocity import overall_reciprocity\n",
    "rec = overall_reciprocity(G)\n",
    "rec"
   ]
  },
  {
   "cell_type": "code",
   "execution_count": 19,
   "metadata": {},
   "outputs": [],
   "source": [
    "from networkx.algorithms.shortest_paths.generic import average_shortest_path_length\n",
    "len_shortest = nx.average_shortest_path_length(G_S)"
   ]
  },
  {
   "cell_type": "code",
   "execution_count": 20,
   "metadata": {},
   "outputs": [
    {
     "data": {
      "text/plain": [
       "2.549983741589059"
      ]
     },
     "execution_count": 20,
     "metadata": {},
     "output_type": "execute_result"
    }
   ],
   "source": [
    "len_shortest"
   ]
  },
  {
   "cell_type": "code",
   "execution_count": 104,
   "metadata": {},
   "outputs": [
    {
     "data": {
      "text/plain": [
       "Text(0.5, 1.0, '\\\\rWallStreetBets subgraph displaying degree centrality')"
      ]
     },
     "execution_count": 104,
     "metadata": {},
     "output_type": "execute_result"
    },
    {
     "data": {
      "image/png": "[encoded data removed]",
      "text/plain": [
       "<Figure size 432x288 with 1 Axes>"
      ]
     },
     "metadata": {},
     "output_type": "display_data"
    }
   ],
   "source": [
    "import numpy as np\n",
    "nx.draw_networkx(G_S, with_labels=False, arrows=False, width=0.02, node_size=500*np.array(list(bet_cen.values())))\n",
    "plt.title('\\\\rWallStreetBets subgraph displaying degree centrality')"
   ]
  },
  {
   "cell_type": "code",
   "execution_count": 34,
   "metadata": {},
   "outputs": [
    {
     "data": {
      "text/plain": [
       "6731"
      ]
     },
     "execution_count": 34,
     "metadata": {},
     "output_type": "execute_result"
    }
   ],
   "source": [
    "np.array(list(bet_cen)).size"
   ]
  },
  {
   "cell_type": "code",
   "execution_count": 35,
   "metadata": {},
   "outputs": [
    {
     "data": {
      "text/plain": [
       "6731"
      ]
     },
     "execution_count": 35,
     "metadata": {},
     "output_type": "execute_result"
    }
   ],
   "source": [
    "G_S.number_of_nodes() "
   ]
  },
  {
   "cell_type": "code",
   "execution_count": 108,
   "metadata": {},
   "outputs": [
    {
     "data": {
      "text/plain": [
       "3.066112019016491"
      ]
     },
     "execution_count": 108,
     "metadata": {},
     "output_type": "execute_result"
    }
   ],
   "source": [
    "N, K = G_S.number_of_nodes() , G_S.number_of_edges()\n",
    "avg_deg = float(K) / N\n",
    "avg_deg"
   ]
  },
  {
   "cell_type": "code",
   "execution_count": 110,
   "metadata": {},
   "outputs": [
    {
     "data": {
      "text/plain": [
       "8"
      ]
     },
     "execution_count": 110,
     "metadata": {},
     "output_type": "execute_result"
    }
   ],
   "source": [
    "nx.diameter(G_S)"
   ]
  },
  {
   "cell_type": "code",
   "execution_count": 111,
   "metadata": {},
   "outputs": [],
   "source": [
    "G_mc = nx.connected_components(G_ud)"
   ]
  },
  {
   "cell_type": "code",
   "execution_count": 112,
   "metadata": {},
   "outputs": [
    {
     "data": {
      "text/plain": [
       "<generator object connected_components at 0x000001CEDFF36C10>"
      ]
     },
     "execution_count": 112,
     "metadata": {},
     "output_type": "execute_result"
    }
   ],
   "source": [
    "G_mc"
   ]
  },
  {
   "cell_type": "code",
   "execution_count": 118,
   "metadata": {},
   "outputs": [
    {
     "data": {
      "text/plain": [
       "(0, [])"
      ]
     },
     "execution_count": 118,
     "metadata": {},
     "output_type": "execute_result"
    }
   ],
   "source": [
    "i = 0\n",
    "lens = []\n",
    "\n",
    "for f in G_mc:\n",
    "    i += 1\n",
    "\n",
    "i, lens"
   ]
  },
  {
   "cell_type": "code",
   "execution_count": null,
   "metadata": {},
   "outputs": [],
   "source": []
  }
 ],
 "metadata": {
  "kernelspec": {
   "display_name": "Python 3",
   "language": "python",
   "name": "python3"
  },
  "language_info": {
   "codemirror_mode": {
    "name": "ipython",
    "version": 3
   },
   "file_extension": ".py",
   "mimetype": "text/x-python",
   "name": "python",
   "nbconvert_exporter": "python",
   "pygments_lexer": "ipython3",
   "version": "3.8.5"
  }
 },
 "nbformat": 4,
 "nbformat_minor": 4
}
