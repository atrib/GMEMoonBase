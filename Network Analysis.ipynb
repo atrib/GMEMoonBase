{
 "cells": [
  {
   "cell_type": "markdown",
   "metadata": {},
   "source": [
    "#### Network analysis on the interactions between users of r\\WallStreetBets\n",
    "In this notebook, a directed graph will be constructed from the interactions between people posting on the subreddit and the people commenting on them.\n",
    "Later, some general statistics on the graph will be computed, followed by an authority vs hub analysis and a thorough visualization."
   ]
  },
  {
   "cell_type": "code",
   "execution_count": 36,
   "metadata": {},
   "outputs": [],
   "source": [
    "import pandas as pd\n",
    "import networkx as nx\n",
    "import matplotlib.pyplot as plt"
   ]
  },
  {
   "cell_type": "code",
   "execution_count": 7,
   "metadata": {},
   "outputs": [],
   "source": [
    "data = pd.read_pickle('post_comments')"
   ]
  },
  {
   "cell_type": "code",
   "execution_count": 13,
   "metadata": {},
   "outputs": [
    {
     "data": {
      "text/html": [
       "<div>\n",
       "<style scoped>\n",
       "    .dataframe tbody tr th:only-of-type {\n",
       "        vertical-align: middle;\n",
       "    }\n",
       "\n",
       "    .dataframe tbody tr th {\n",
       "        vertical-align: top;\n",
       "    }\n",
       "\n",
       "    .dataframe thead th {\n",
       "        text-align: right;\n",
       "    }\n",
       "</style>\n",
       "<table border=\"1\" class=\"dataframe\">\n",
       "  <thead>\n",
       "    <tr style=\"text-align: right;\">\n",
       "      <th></th>\n",
       "      <th>post_id</th>\n",
       "      <th>post_user</th>\n",
       "      <th>comment_id</th>\n",
       "      <th>comment_user</th>\n",
       "    </tr>\n",
       "  </thead>\n",
       "  <tbody>\n",
       "    <tr>\n",
       "      <th>0</th>\n",
       "      <td>gmxhbfi</td>\n",
       "      <td>Humble_Signature_993</td>\n",
       "      <td>lb255a</td>\n",
       "      <td>arauz7</td>\n",
       "    </tr>\n",
       "    <tr>\n",
       "      <th>1</th>\n",
       "      <td>gmpsv32</td>\n",
       "      <td>spookybonez</td>\n",
       "      <td>lb255a</td>\n",
       "      <td>arauz7</td>\n",
       "    </tr>\n",
       "    <tr>\n",
       "      <th>2</th>\n",
       "      <td>gmpmko6</td>\n",
       "      <td>nobuouematsu1</td>\n",
       "      <td>lb255a</td>\n",
       "      <td>arauz7</td>\n",
       "    </tr>\n",
       "    <tr>\n",
       "      <th>3</th>\n",
       "      <td>gmpkjo2</td>\n",
       "      <td>Shigx</td>\n",
       "      <td>lb255a</td>\n",
       "      <td>arauz7</td>\n",
       "    </tr>\n",
       "    <tr>\n",
       "      <th>4</th>\n",
       "      <td>gmm6dhx</td>\n",
       "      <td>hastorow</td>\n",
       "      <td>lb255a</td>\n",
       "      <td>arauz7</td>\n",
       "    </tr>\n",
       "    <tr>\n",
       "      <th>...</th>\n",
       "      <td>...</td>\n",
       "      <td>...</td>\n",
       "      <td>...</td>\n",
       "      <td>...</td>\n",
       "    </tr>\n",
       "    <tr>\n",
       "      <th>4113927</th>\n",
       "      <td>glmqpiy</td>\n",
       "      <td>Awkward_Battle_723</td>\n",
       "      <td>laabwm</td>\n",
       "      <td>trevor1400E</td>\n",
       "    </tr>\n",
       "    <tr>\n",
       "      <th>4113928</th>\n",
       "      <td>glmqiik</td>\n",
       "      <td>YouKnow-TheFarmer</td>\n",
       "      <td>laabwm</td>\n",
       "      <td>trevor1400E</td>\n",
       "    </tr>\n",
       "    <tr>\n",
       "      <th>4113929</th>\n",
       "      <td>glmqgz5</td>\n",
       "      <td>iwouldificouldbitch</td>\n",
       "      <td>laabwm</td>\n",
       "      <td>trevor1400E</td>\n",
       "    </tr>\n",
       "    <tr>\n",
       "      <th>4113930</th>\n",
       "      <td>glmqefv</td>\n",
       "      <td>ianjustinferris</td>\n",
       "      <td>laabwm</td>\n",
       "      <td>trevor1400E</td>\n",
       "    </tr>\n",
       "    <tr>\n",
       "      <th>4113931</th>\n",
       "      <td>glmqcwj</td>\n",
       "      <td>Anonymous-420smoker</td>\n",
       "      <td>laabwm</td>\n",
       "      <td>trevor1400E</td>\n",
       "    </tr>\n",
       "  </tbody>\n",
       "</table>\n",
       "<p>4113932 rows × 4 columns</p>\n",
       "</div>"
      ],
      "text/plain": [
       "         post_id             post_user comment_id comment_user\n",
       "0        gmxhbfi  Humble_Signature_993     lb255a       arauz7\n",
       "1        gmpsv32           spookybonez     lb255a       arauz7\n",
       "2        gmpmko6         nobuouematsu1     lb255a       arauz7\n",
       "3        gmpkjo2                 Shigx     lb255a       arauz7\n",
       "4        gmm6dhx              hastorow     lb255a       arauz7\n",
       "...          ...                   ...        ...          ...\n",
       "4113927  glmqpiy    Awkward_Battle_723     laabwm  trevor1400E\n",
       "4113928  glmqiik     YouKnow-TheFarmer     laabwm  trevor1400E\n",
       "4113929  glmqgz5   iwouldificouldbitch     laabwm  trevor1400E\n",
       "4113930  glmqefv       ianjustinferris     laabwm  trevor1400E\n",
       "4113931  glmqcwj   Anonymous-420smoker     laabwm  trevor1400E\n",
       "\n",
       "[4113932 rows x 4 columns]"
      ]
     },
     "execution_count": 13,
     "metadata": {},
     "output_type": "execute_result"
    }
   ],
   "source": [
    "df = pd.DataFrame(data, \n",
    "                  columns=['post_id', 'post_user', 'comment_id', 'comment_user'])\n",
    "df"
   ]
  },
  {
   "cell_type": "code",
   "execution_count": 17,
   "metadata": {},
   "outputs": [],
   "source": [
    "df_new = df.groupby(['post_user', 'comment_user']).size().reset_index()"
   ]
  },
  {
   "cell_type": "code",
   "execution_count": 21,
   "metadata": {},
   "outputs": [
    {
     "data": {
      "text/html": [
       "<div>\n",
       "<style scoped>\n",
       "    .dataframe tbody tr th:only-of-type {\n",
       "        vertical-align: middle;\n",
       "    }\n",
       "\n",
       "    .dataframe tbody tr th {\n",
       "        vertical-align: top;\n",
       "    }\n",
       "\n",
       "    .dataframe thead th {\n",
       "        text-align: right;\n",
       "    }\n",
       "</style>\n",
       "<table border=\"1\" class=\"dataframe\">\n",
       "  <thead>\n",
       "    <tr style=\"text-align: right;\">\n",
       "      <th></th>\n",
       "      <th>post_user</th>\n",
       "      <th>comment_user</th>\n",
       "      <th>weight</th>\n",
       "    </tr>\n",
       "  </thead>\n",
       "  <tbody>\n",
       "    <tr>\n",
       "      <th>0</th>\n",
       "      <td>---------II---------</td>\n",
       "      <td>Inevita92</td>\n",
       "      <td>1</td>\n",
       "    </tr>\n",
       "    <tr>\n",
       "      <th>1</th>\n",
       "      <td>---------II---------</td>\n",
       "      <td>eidorianc</td>\n",
       "      <td>1</td>\n",
       "    </tr>\n",
       "    <tr>\n",
       "      <th>2</th>\n",
       "      <td>---------II---------</td>\n",
       "      <td>only1parkjisung</td>\n",
       "      <td>1</td>\n",
       "    </tr>\n",
       "    <tr>\n",
       "      <th>3</th>\n",
       "      <td>------TooyBooy------</td>\n",
       "      <td>bobfreehuman</td>\n",
       "      <td>1</td>\n",
       "    </tr>\n",
       "    <tr>\n",
       "      <th>4</th>\n",
       "      <td>------what------</td>\n",
       "      <td>jaymancini</td>\n",
       "      <td>1</td>\n",
       "    </tr>\n",
       "    <tr>\n",
       "      <th>...</th>\n",
       "      <td>...</td>\n",
       "      <td>...</td>\n",
       "      <td>...</td>\n",
       "    </tr>\n",
       "    <tr>\n",
       "      <th>2039741</th>\n",
       "      <td>zzzzzz129</td>\n",
       "      <td>grebfar</td>\n",
       "      <td>5</td>\n",
       "    </tr>\n",
       "    <tr>\n",
       "      <th>2039742</th>\n",
       "      <td>zzzzzz129</td>\n",
       "      <td>theycallme1</td>\n",
       "      <td>2</td>\n",
       "    </tr>\n",
       "    <tr>\n",
       "      <th>2039743</th>\n",
       "      <td>zzzzzz129</td>\n",
       "      <td>wallstreetboyfriend</td>\n",
       "      <td>3</td>\n",
       "    </tr>\n",
       "    <tr>\n",
       "      <th>2039744</th>\n",
       "      <td>zzzzzzzzzzzzzqqqqqqq</td>\n",
       "      <td>DunderMuggler</td>\n",
       "      <td>1</td>\n",
       "    </tr>\n",
       "    <tr>\n",
       "      <th>2039745</th>\n",
       "      <td>zzzzzzzzzzzzzzzzs</td>\n",
       "      <td>rabshab21</td>\n",
       "      <td>1</td>\n",
       "    </tr>\n",
       "  </tbody>\n",
       "</table>\n",
       "<p>2039746 rows × 3 columns</p>\n",
       "</div>"
      ],
      "text/plain": [
       "                    post_user         comment_user  weight\n",
       "0        ---------II---------            Inevita92       1\n",
       "1        ---------II---------            eidorianc       1\n",
       "2        ---------II---------      only1parkjisung       1\n",
       "3        ------TooyBooy------         bobfreehuman       1\n",
       "4            ------what------           jaymancini       1\n",
       "...                       ...                  ...     ...\n",
       "2039741             zzzzzz129              grebfar       5\n",
       "2039742             zzzzzz129          theycallme1       2\n",
       "2039743             zzzzzz129  wallstreetboyfriend       3\n",
       "2039744  zzzzzzzzzzzzzqqqqqqq        DunderMuggler       1\n",
       "2039745     zzzzzzzzzzzzzzzzs            rabshab21       1\n",
       "\n",
       "[2039746 rows x 3 columns]"
      ]
     },
     "execution_count": 21,
     "metadata": {},
     "output_type": "execute_result"
    }
   ],
   "source": [
    "df_new['weight'] = df_new[0]\n",
    "df_new = df_new.drop(columns=[0])\n",
    "df_new"
   ]
  },
  {
   "cell_type": "code",
   "execution_count": 23,
   "metadata": {},
   "outputs": [],
   "source": [
    "G = nx.from_pandas_edgelist(df_new, source='comment_user', target='post_user', \n",
    "                            edge_attr='weight', create_using=nx.DiGraph())"
   ]
  },
  {
   "cell_type": "code",
   "execution_count": 24,
   "metadata": {},
   "outputs": [
    {
     "data": {
      "text/plain": [
       "637395"
      ]
     },
     "execution_count": 24,
     "metadata": {},
     "output_type": "execute_result"
    }
   ],
   "source": [
    "G.number_of_nodes() "
   ]
  },
  {
   "cell_type": "code",
   "execution_count": 25,
   "metadata": {},
   "outputs": [
    {
     "data": {
      "text/plain": [
       "2039746"
      ]
     },
     "execution_count": 25,
     "metadata": {},
     "output_type": "execute_result"
    }
   ],
   "source": [
    "G.number_of_edges()"
   ]
  },
  {
   "cell_type": "code",
   "execution_count": 27,
   "metadata": {},
   "outputs": [
    {
     "data": {
      "text/plain": [
       "3.200128648640168"
      ]
     },
     "execution_count": 27,
     "metadata": {},
     "output_type": "execute_result"
    }
   ],
   "source": [
    "N, K = G.number_of_nodes() , G.number_of_edges()\n",
    "avg_deg = float(K) / N\n",
    "avg_deg"
   ]
  },
  {
   "cell_type": "code",
   "execution_count": 34,
   "metadata": {},
   "outputs": [],
   "source": [
    "in_degrees = list(G.in_degree()) # dictionary node:degree\n",
    "in_values = sorted(set([in_degree[1] for in_degree in in_degrees]))\n",
    "in_hist = [[in_degree[1] for in_degree in in_degrees].count(x) for x in in_values]"
   ]
  },
  {
   "cell_type": "code",
   "execution_count": 40,
   "metadata": {},
   "outputs": [
    {
     "name": "stderr",
     "output_type": "stream",
     "text": [
      "<ipython-input-40-f372c9d95eaf>:7: UserWarning: Attempted to set non-positive left xlim on a log-scaled axis.\n",
      "Invalid limit will be ignored.\n",
      "  plt.xlim([0, 2*10**2])\n"
     ]
    },
    {
     "data": {
      "text/plain": [
       "(0.6188500645217611, 200)"
      ]
     },
     "execution_count": 40,
     "metadata": {},
     "output_type": "execute_result"
    },
    {
     "data": {
      "image/png": "[encoded data removed]",
      "text/plain": [
       "<Figure size 432x288 with 1 Axes>"
      ]
     },
     "metadata": {
      "needs_background": "light"
     },
     "output_type": "display_data"
    }
   ],
   "source": [
    "plt.figure() # you need to first do 'import pylab as plt'\n",
    "plt.grid(True)\n",
    "plt.loglog(in_values, in_hist, 'ro-') # in-degree\n",
    "plt.xlabel('Degree')\n",
    "plt.ylabel('Number of nodes')\n",
    "plt.title('Indegrees in r\\Wallstreetbets posts')\n",
    "plt.xlim([0, 2*10**2])"
   ]
  },
  {
   "cell_type": "code",
   "execution_count": 49,
   "metadata": {},
   "outputs": [],
   "source": [
    "G_ud = G.to_undirected()\n",
    "#print(nx.average_clustering(G_ud))"
   ]
  },
  {
   "cell_type": "code",
   "execution_count": null,
   "metadata": {},
   "outputs": [],
   "source": [
    "# Connected components are sorted in descending order of their size\n",
    "G_mc = max(nx.connected_components(G_ud), key=len)\n",
    "G_S = G_ud.subgraph(G_mc).copy()\n",
    "# Betweenness centrality\n",
    "bet_cen = nx.betweenness_centrality(G_S)\n",
    "# Closeness centrality\n",
    "clo_cen = nx.closeness_centrality(G_S)\n",
    "# Eigenvector centrality\n",
    "eig_cen = nx.eigenvector_centrality(G_S)"
   ]
  },
  {
   "cell_type": "code",
   "execution_count": null,
   "metadata": {},
   "outputs": [],
   "source": [
    "def get_top_keys(dictionary, top):\n",
    "    items = dictionary.items()\n",
    "    items.sort(reverse=True, key=lambda x: x[1])\n",
    "    return map(lambda x: x[0], items[:top])"
   ]
  },
  {
   "cell_type": "code",
   "execution_count": null,
   "metadata": {},
   "outputs": [],
   "source": [
    "top_bet_cen = get_top_keys(bet_cen,10)\n",
    "top_clo_cen = get_top_keys(clo_cen,10)\n",
    "top_eig_cent = get_top_keys(eig_cen,10)"
   ]
  },
  {
   "cell_type": "code",
   "execution_count": null,
   "metadata": {},
   "outputs": [],
   "source": [
    "from networkx.algorithms.community import greedy_modularity_communities\n",
    "c = list(greedy_modularity_communities(G))\n",
    "sorted(c[0])"
   ]
  },
  {
   "cell_type": "code",
   "execution_count": null,
   "metadata": {},
   "outputs": [],
   "source": [
    "from networkx.algorithms.link_analysis.hits_alg import hits\n",
    "h, a = nx.hits(G)\n",
    "a"
   ]
  },
  {
   "cell_type": "code",
   "execution_count": null,
   "metadata": {},
   "outputs": [],
   "source": [
    "from networkx.algorithms.reciprocity import overall_reciprocity\n",
    "rec = overall_reciprocity(G)\n",
    "rec"
   ]
  },
  {
   "cell_type": "code",
   "execution_count": null,
   "metadata": {},
   "outputs": [],
   "source": [
    "from networkx.algorithms.shortest_paths.generic import average_shortest_path_length\n",
    "len_shortest = nx.average_shortest_path_length(G)"
   ]
  },
  {
   "cell_type": "code",
   "execution_count": null,
   "metadata": {},
   "outputs": [],
   "source": []
  }
 ],
 "metadata": {
  "kernelspec": {
   "display_name": "Python 3",
   "language": "python",
   "name": "python3"
  },
  "language_info": {
   "codemirror_mode": {
    "name": "ipython",
    "version": 3
   },
   "file_extension": ".py",
   "mimetype": "text/x-python",
   "name": "python",
   "nbconvert_exporter": "python",
   "pygments_lexer": "ipython3",
   "version": "3.8.5"
  }
 },
 "nbformat": 4,
 "nbformat_minor": 4
}
